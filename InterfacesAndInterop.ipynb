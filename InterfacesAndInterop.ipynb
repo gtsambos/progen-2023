{
 "cells": [
  {
   "cell_type": "markdown",
   "id": "1d533cbf-23c9-4621-b92d-f64cca58e94a",
   "metadata": {},
   "source": [
    "# Inferfaces and interoperability\n",
    "\n",
    "* Well-tested API used by many software packages: SLiM, fwdpy11, msprime, tsinfer/tsdate, Relate, etc.\n",
    "* Available in multiple programming languages: \n",
    "  <img src=\"images/C_Logo.png\" width=\"30px\">\n",
    "  <img src=\"images/python-logo-master-v3-TM-flattened.png\" width=\"120px\">\n",
    "  <img src=\"images/RustLogo.png\" width=\"50px\">\n",
    "  <img src=\"images/620px-R_logo.svg.png\" width=\"40px\">\n",
    "* Runs in-browser (no install required!) for quick demos / teaching (see screenshot)\n",
    "* Highly efficient for processing large datasets / ARGs (Covid ARG has ~1.3M samples, bigger ones coming)\n",
    "* Interoperable with other packages (VCF output for sequence data, newick/nexus output e.g. to Dendropy, numpy arrays e.g. to scikit-allel)\n"
   ]
  },
  {
   "cell_type": "markdown",
   "id": "8a1a7b8f-d560-4547-a54c-a2272effd381",
   "metadata": {},
   "source": [
    "![Example of a JupyterLite notebook](images/JupyterLite.png)"
   ]
  },
  {
   "cell_type": "code",
   "execution_count": null,
   "id": "019d6467-a2e1-45dd-b432-c5ee33df9fc8",
   "metadata": {},
   "outputs": [],
   "source": [
    "# Code for above viz, to demo in a jupyterlite notebook\n",
    "\n",
    "import msprime\n",
    "ts = msprime.sim_ancestry(2, sequence_length=600, recombination_rate=1e-3, random_seed=7)\n",
    "ts = msprime.sim_mutations(ts, rate=2e-3, random_seed=9)\n",
    "\n",
    "css = \".tree .plotbox {transform: skewY(0.7rad) translateY(-50px)}\"\n",
    "ts.draw_svg(size=(700, 200), x_scale=\"treewise\", style=css, mutation_labels={})"
   ]
  }
 ],
 "metadata": {
  "kernelspec": {
   "display_name": "Python 3 (ipykernel)",
   "language": "python",
   "name": "python3"
  },
  "language_info": {
   "codemirror_mode": {
    "name": "ipython",
    "version": 3
   },
   "file_extension": ".py",
   "mimetype": "text/x-python",
   "name": "python",
   "nbconvert_exporter": "python",
   "pygments_lexer": "ipython3",
   "version": "3.10.8"
  }
 },
 "nbformat": 4,
 "nbformat_minor": 5
}
